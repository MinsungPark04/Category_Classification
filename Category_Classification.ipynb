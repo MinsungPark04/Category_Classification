{
  "nbformat": 4,
  "nbformat_minor": 0,
  "metadata": {
    "colab": {
      "provenance": [],
      "machine_shape": "hm",
      "gpuType": "T4",
      "toc_visible": true,
      "authorship_tag": "ABX9TyOG5ZnQa16OEb0d+iVIVdWp",
      "include_colab_link": true
    },
    "kernelspec": {
      "name": "python3",
      "display_name": "Python 3"
    },
    "language_info": {
      "name": "python"
    },
    "accelerator": "GPU"
  },
  "cells": [
    {
      "cell_type": "markdown",
      "metadata": {
        "id": "view-in-github",
        "colab_type": "text"
      },
      "source": [
        "<a href=\"https://colab.research.google.com/github/MinsungPark04/Category_Classification/blob/main/Category_Classification.ipynb\" target=\"_parent\"><img src=\"https://colab.research.google.com/assets/colab-badge.svg\" alt=\"Open In Colab\"/></a>"
      ]
    },
    {
      "cell_type": "code",
      "execution_count": 1,
      "metadata": {
        "id": "Ofli-JjJj91l",
        "colab": {
          "base_uri": "https://localhost:8080/"
        },
        "outputId": "bce83143-8958-4f64-9c0a-591e05b29e25"
      },
      "outputs": [
        {
          "output_type": "stream",
          "name": "stdout",
          "text": [
            "Drive already mounted at /content/drive; to attempt to forcibly remount, call drive.mount(\"/content/drive\", force_remount=True).\n"
          ]
        }
      ],
      "source": [
        "from google.colab import drive\n",
        "drive.mount('/content/drive')"
      ]
    },
    {
      "cell_type": "code",
      "source": [
        "import pandas as pd\n",
        "from sklearn.model_selection import train_test_split\n",
        "from sklearn.preprocessing import LabelEncoder\n",
        "from sklearn.feature_extraction.text import TfidfVectorizer\n",
        "from sklearn.naive_bayes import MultinomialNB\n",
        "from sklearn.metrics import classification_report\n",
        "from sklearn.pipeline import make_pipeline"
      ],
      "metadata": {
        "id": "NAAZya_KQUET"
      },
      "execution_count": 6,
      "outputs": []
    },
    {
      "cell_type": "code",
      "source": [
        "def load_data():\n",
        "    df = pd.read_csv('/content/drive/MyDrive/Colab Notebooks/Data/refine_data.csv', nrows=100000)\n",
        "    df = df.dropna()\n",
        "    df = df.drop_duplicates(subset='title', keep='first')\n",
        "    df = df[['title', 'main_category']]\n",
        "    df = df.reset_index(drop=True)\n",
        "    return df\n",
        "\n",
        "df = load_data()\n"
      ],
      "metadata": {
        "id": "WhFrz-mZi3ve"
      },
      "execution_count": 3,
      "outputs": []
    },
    {
      "cell_type": "code",
      "source": [
        "df"
      ],
      "metadata": {
        "colab": {
          "base_uri": "https://localhost:8080/",
          "height": 424
        },
        "id": "tQQSqcVPVOND",
        "outputId": "7f0fdf92-dbe7-42d3-b9bf-161e102ec4e9"
      },
      "execution_count": 4,
      "outputs": [
        {
          "output_type": "execute_result",
          "data": {
            "text/plain": [
              "                                                   title main_category\n",
              "0                             \"U+tv·인터넷 가입하고 반려나무 입양하세요\"         IT/과학\n",
              "1                   주총 하루 앞둔 KT…국민연금, 표현명 KT 사외이사 재선임 반대         IT/과학\n",
              "2                    [딜로이트 테크 인사이트⑤] 기후행동 앞장서는 글로벌 기술기업들         IT/과학\n",
              "3                          \"사업 제안서 좀 써줘\"…챗GPT 정보유출 '경고등'         IT/과학\n",
              "4                              \"바뀐 개인정보법, 시장 불확실성 해소할 것\"         IT/과학\n",
              "...                                                  ...           ...\n",
              "89644                              장애인의 날 기념식 참석한 한덕수 총리            경제\n",
              "89645                 원희룡 \"전세사기 원인 제공자가 해결사 자처\"...민주당 직격            경제\n",
              "89646                    병원비 선납했다가.... 과다 위약금 요구 의료기관 다수            경제\n",
              "89647  전세사기 피해자 대상 채무조정·특례보금자리론 추가 금리 인하키로···우리금융은 전세...            경제\n",
              "89648        대구기계부품연구원, LG전자·이알·신우첨단소재- 태양광 폐패널 처리 위해 한손            경제\n",
              "\n",
              "[89649 rows x 2 columns]"
            ],
            "text/html": [
              "\n",
              "  <div id=\"df-218e648c-c708-4774-9a11-ee169c39f46e\" class=\"colab-df-container\">\n",
              "    <div>\n",
              "<style scoped>\n",
              "    .dataframe tbody tr th:only-of-type {\n",
              "        vertical-align: middle;\n",
              "    }\n",
              "\n",
              "    .dataframe tbody tr th {\n",
              "        vertical-align: top;\n",
              "    }\n",
              "\n",
              "    .dataframe thead th {\n",
              "        text-align: right;\n",
              "    }\n",
              "</style>\n",
              "<table border=\"1\" class=\"dataframe\">\n",
              "  <thead>\n",
              "    <tr style=\"text-align: right;\">\n",
              "      <th></th>\n",
              "      <th>title</th>\n",
              "      <th>main_category</th>\n",
              "    </tr>\n",
              "  </thead>\n",
              "  <tbody>\n",
              "    <tr>\n",
              "      <th>0</th>\n",
              "      <td>\"U+tv·인터넷 가입하고 반려나무 입양하세요\"</td>\n",
              "      <td>IT/과학</td>\n",
              "    </tr>\n",
              "    <tr>\n",
              "      <th>1</th>\n",
              "      <td>주총 하루 앞둔 KT…국민연금, 표현명 KT 사외이사 재선임 반대</td>\n",
              "      <td>IT/과학</td>\n",
              "    </tr>\n",
              "    <tr>\n",
              "      <th>2</th>\n",
              "      <td>[딜로이트 테크 인사이트⑤] 기후행동 앞장서는 글로벌 기술기업들</td>\n",
              "      <td>IT/과학</td>\n",
              "    </tr>\n",
              "    <tr>\n",
              "      <th>3</th>\n",
              "      <td>\"사업 제안서 좀 써줘\"…챗GPT 정보유출 '경고등'</td>\n",
              "      <td>IT/과학</td>\n",
              "    </tr>\n",
              "    <tr>\n",
              "      <th>4</th>\n",
              "      <td>\"바뀐 개인정보법, 시장 불확실성 해소할 것\"</td>\n",
              "      <td>IT/과학</td>\n",
              "    </tr>\n",
              "    <tr>\n",
              "      <th>...</th>\n",
              "      <td>...</td>\n",
              "      <td>...</td>\n",
              "    </tr>\n",
              "    <tr>\n",
              "      <th>89644</th>\n",
              "      <td>장애인의 날 기념식 참석한 한덕수 총리</td>\n",
              "      <td>경제</td>\n",
              "    </tr>\n",
              "    <tr>\n",
              "      <th>89645</th>\n",
              "      <td>원희룡 \"전세사기 원인 제공자가 해결사 자처\"...민주당 직격</td>\n",
              "      <td>경제</td>\n",
              "    </tr>\n",
              "    <tr>\n",
              "      <th>89646</th>\n",
              "      <td>병원비 선납했다가.... 과다 위약금 요구 의료기관 다수</td>\n",
              "      <td>경제</td>\n",
              "    </tr>\n",
              "    <tr>\n",
              "      <th>89647</th>\n",
              "      <td>전세사기 피해자 대상 채무조정·특례보금자리론 추가 금리 인하키로···우리금융은 전세...</td>\n",
              "      <td>경제</td>\n",
              "    </tr>\n",
              "    <tr>\n",
              "      <th>89648</th>\n",
              "      <td>대구기계부품연구원, LG전자·이알·신우첨단소재- 태양광 폐패널 처리 위해 한손</td>\n",
              "      <td>경제</td>\n",
              "    </tr>\n",
              "  </tbody>\n",
              "</table>\n",
              "<p>89649 rows × 2 columns</p>\n",
              "</div>\n",
              "    <div class=\"colab-df-buttons\">\n",
              "\n",
              "  <div class=\"colab-df-container\">\n",
              "    <button class=\"colab-df-convert\" onclick=\"convertToInteractive('df-218e648c-c708-4774-9a11-ee169c39f46e')\"\n",
              "            title=\"Convert this dataframe to an interactive table.\"\n",
              "            style=\"display:none;\">\n",
              "\n",
              "  <svg xmlns=\"http://www.w3.org/2000/svg\" height=\"24px\" viewBox=\"0 -960 960 960\">\n",
              "    <path d=\"M120-120v-720h720v720H120Zm60-500h600v-160H180v160Zm220 220h160v-160H400v160Zm0 220h160v-160H400v160ZM180-400h160v-160H180v160Zm440 0h160v-160H620v160ZM180-180h160v-160H180v160Zm440 0h160v-160H620v160Z\"/>\n",
              "  </svg>\n",
              "    </button>\n",
              "\n",
              "  <style>\n",
              "    .colab-df-container {\n",
              "      display:flex;\n",
              "      gap: 12px;\n",
              "    }\n",
              "\n",
              "    .colab-df-convert {\n",
              "      background-color: #E8F0FE;\n",
              "      border: none;\n",
              "      border-radius: 50%;\n",
              "      cursor: pointer;\n",
              "      display: none;\n",
              "      fill: #1967D2;\n",
              "      height: 32px;\n",
              "      padding: 0 0 0 0;\n",
              "      width: 32px;\n",
              "    }\n",
              "\n",
              "    .colab-df-convert:hover {\n",
              "      background-color: #E2EBFA;\n",
              "      box-shadow: 0px 1px 2px rgba(60, 64, 67, 0.3), 0px 1px 3px 1px rgba(60, 64, 67, 0.15);\n",
              "      fill: #174EA6;\n",
              "    }\n",
              "\n",
              "    .colab-df-buttons div {\n",
              "      margin-bottom: 4px;\n",
              "    }\n",
              "\n",
              "    [theme=dark] .colab-df-convert {\n",
              "      background-color: #3B4455;\n",
              "      fill: #D2E3FC;\n",
              "    }\n",
              "\n",
              "    [theme=dark] .colab-df-convert:hover {\n",
              "      background-color: #434B5C;\n",
              "      box-shadow: 0px 1px 3px 1px rgba(0, 0, 0, 0.15);\n",
              "      filter: drop-shadow(0px 1px 2px rgba(0, 0, 0, 0.3));\n",
              "      fill: #FFFFFF;\n",
              "    }\n",
              "  </style>\n",
              "\n",
              "    <script>\n",
              "      const buttonEl =\n",
              "        document.querySelector('#df-218e648c-c708-4774-9a11-ee169c39f46e button.colab-df-convert');\n",
              "      buttonEl.style.display =\n",
              "        google.colab.kernel.accessAllowed ? 'block' : 'none';\n",
              "\n",
              "      async function convertToInteractive(key) {\n",
              "        const element = document.querySelector('#df-218e648c-c708-4774-9a11-ee169c39f46e');\n",
              "        const dataTable =\n",
              "          await google.colab.kernel.invokeFunction('convertToInteractive',\n",
              "                                                    [key], {});\n",
              "        if (!dataTable) return;\n",
              "\n",
              "        const docLinkHtml = 'Like what you see? Visit the ' +\n",
              "          '<a target=\"_blank\" href=https://colab.research.google.com/notebooks/data_table.ipynb>data table notebook</a>'\n",
              "          + ' to learn more about interactive tables.';\n",
              "        element.innerHTML = '';\n",
              "        dataTable['output_type'] = 'display_data';\n",
              "        await google.colab.output.renderOutput(dataTable, element);\n",
              "        const docLink = document.createElement('div');\n",
              "        docLink.innerHTML = docLinkHtml;\n",
              "        element.appendChild(docLink);\n",
              "      }\n",
              "    </script>\n",
              "  </div>\n",
              "\n",
              "\n",
              "<div id=\"df-eb9fa1db-ef78-4ca4-bb3f-1f3842d1fb72\">\n",
              "  <button class=\"colab-df-quickchart\" onclick=\"quickchart('df-eb9fa1db-ef78-4ca4-bb3f-1f3842d1fb72')\"\n",
              "            title=\"Suggest charts.\"\n",
              "            style=\"display:none;\">\n",
              "\n",
              "<svg xmlns=\"http://www.w3.org/2000/svg\" height=\"24px\"viewBox=\"0 0 24 24\"\n",
              "     width=\"24px\">\n",
              "    <g>\n",
              "        <path d=\"M19 3H5c-1.1 0-2 .9-2 2v14c0 1.1.9 2 2 2h14c1.1 0 2-.9 2-2V5c0-1.1-.9-2-2-2zM9 17H7v-7h2v7zm4 0h-2V7h2v10zm4 0h-2v-4h2v4z\"/>\n",
              "    </g>\n",
              "</svg>\n",
              "  </button>\n",
              "\n",
              "<style>\n",
              "  .colab-df-quickchart {\n",
              "      --bg-color: #E8F0FE;\n",
              "      --fill-color: #1967D2;\n",
              "      --hover-bg-color: #E2EBFA;\n",
              "      --hover-fill-color: #174EA6;\n",
              "      --disabled-fill-color: #AAA;\n",
              "      --disabled-bg-color: #DDD;\n",
              "  }\n",
              "\n",
              "  [theme=dark] .colab-df-quickchart {\n",
              "      --bg-color: #3B4455;\n",
              "      --fill-color: #D2E3FC;\n",
              "      --hover-bg-color: #434B5C;\n",
              "      --hover-fill-color: #FFFFFF;\n",
              "      --disabled-bg-color: #3B4455;\n",
              "      --disabled-fill-color: #666;\n",
              "  }\n",
              "\n",
              "  .colab-df-quickchart {\n",
              "    background-color: var(--bg-color);\n",
              "    border: none;\n",
              "    border-radius: 50%;\n",
              "    cursor: pointer;\n",
              "    display: none;\n",
              "    fill: var(--fill-color);\n",
              "    height: 32px;\n",
              "    padding: 0;\n",
              "    width: 32px;\n",
              "  }\n",
              "\n",
              "  .colab-df-quickchart:hover {\n",
              "    background-color: var(--hover-bg-color);\n",
              "    box-shadow: 0 1px 2px rgba(60, 64, 67, 0.3), 0 1px 3px 1px rgba(60, 64, 67, 0.15);\n",
              "    fill: var(--button-hover-fill-color);\n",
              "  }\n",
              "\n",
              "  .colab-df-quickchart-complete:disabled,\n",
              "  .colab-df-quickchart-complete:disabled:hover {\n",
              "    background-color: var(--disabled-bg-color);\n",
              "    fill: var(--disabled-fill-color);\n",
              "    box-shadow: none;\n",
              "  }\n",
              "\n",
              "  .colab-df-spinner {\n",
              "    border: 2px solid var(--fill-color);\n",
              "    border-color: transparent;\n",
              "    border-bottom-color: var(--fill-color);\n",
              "    animation:\n",
              "      spin 1s steps(1) infinite;\n",
              "  }\n",
              "\n",
              "  @keyframes spin {\n",
              "    0% {\n",
              "      border-color: transparent;\n",
              "      border-bottom-color: var(--fill-color);\n",
              "      border-left-color: var(--fill-color);\n",
              "    }\n",
              "    20% {\n",
              "      border-color: transparent;\n",
              "      border-left-color: var(--fill-color);\n",
              "      border-top-color: var(--fill-color);\n",
              "    }\n",
              "    30% {\n",
              "      border-color: transparent;\n",
              "      border-left-color: var(--fill-color);\n",
              "      border-top-color: var(--fill-color);\n",
              "      border-right-color: var(--fill-color);\n",
              "    }\n",
              "    40% {\n",
              "      border-color: transparent;\n",
              "      border-right-color: var(--fill-color);\n",
              "      border-top-color: var(--fill-color);\n",
              "    }\n",
              "    60% {\n",
              "      border-color: transparent;\n",
              "      border-right-color: var(--fill-color);\n",
              "    }\n",
              "    80% {\n",
              "      border-color: transparent;\n",
              "      border-right-color: var(--fill-color);\n",
              "      border-bottom-color: var(--fill-color);\n",
              "    }\n",
              "    90% {\n",
              "      border-color: transparent;\n",
              "      border-bottom-color: var(--fill-color);\n",
              "    }\n",
              "  }\n",
              "</style>\n",
              "\n",
              "  <script>\n",
              "    async function quickchart(key) {\n",
              "      const quickchartButtonEl =\n",
              "        document.querySelector('#' + key + ' button');\n",
              "      quickchartButtonEl.disabled = true;  // To prevent multiple clicks.\n",
              "      quickchartButtonEl.classList.add('colab-df-spinner');\n",
              "      try {\n",
              "        const charts = await google.colab.kernel.invokeFunction(\n",
              "            'suggestCharts', [key], {});\n",
              "      } catch (error) {\n",
              "        console.error('Error during call to suggestCharts:', error);\n",
              "      }\n",
              "      quickchartButtonEl.classList.remove('colab-df-spinner');\n",
              "      quickchartButtonEl.classList.add('colab-df-quickchart-complete');\n",
              "    }\n",
              "    (() => {\n",
              "      let quickchartButtonEl =\n",
              "        document.querySelector('#df-eb9fa1db-ef78-4ca4-bb3f-1f3842d1fb72 button');\n",
              "      quickchartButtonEl.style.display =\n",
              "        google.colab.kernel.accessAllowed ? 'block' : 'none';\n",
              "    })();\n",
              "  </script>\n",
              "</div>\n",
              "    </div>\n",
              "  </div>\n"
            ]
          },
          "metadata": {},
          "execution_count": 4
        }
      ]
    },
    {
      "cell_type": "markdown",
      "source": [
        "네이버 뉴스 제목 중복 제거"
      ],
      "metadata": {
        "id": "Y01X39RGNvD7"
      }
    },
    {
      "cell_type": "code",
      "source": [
        "value_counts = df['main_category'].value_counts()\n",
        "\n",
        "print(value_counts)\n"
      ],
      "metadata": {
        "colab": {
          "base_uri": "https://localhost:8080/"
        },
        "id": "vL0W1uU_N_gs",
        "outputId": "6b845495-0c32-43e0-b5f3-87309c2864ed"
      },
      "execution_count": 5,
      "outputs": [
        {
          "output_type": "stream",
          "name": "stdout",
          "text": [
            "사회       43238\n",
            "경제       21371\n",
            "정치       11443\n",
            "생활/문화     8639\n",
            "IT/과학     4958\n",
            "Name: main_category, dtype: int64\n"
          ]
        }
      ]
    },
    {
      "cell_type": "markdown",
      "source": [
        "헤더 내용 추가"
      ],
      "metadata": {
        "id": "JzxH4y3ZUfYd"
      }
    },
    {
      "cell_type": "code",
      "source": [
        "original_file_name = '/content/drive/MyDrive/Colab Notebooks/Data/raw_data.csv'\n",
        "new_file_name = '/content/drive/MyDrive/Colab Notebooks/Data/refine_data.csv'\n",
        "\n",
        "\n",
        "header = 'title,content,main_category,sub_category\\n'\n",
        "\n",
        "with open(original_file_name, 'r') as original_file:\n",
        "    content = original_file.readlines()\n",
        "\n",
        "\n",
        "with open(new_file_name, 'w') as new_file:\n",
        "    new_file.write(header)\n",
        "    new_file.writelines(content)\n",
        "\n"
      ],
      "metadata": {
        "id": "-zelUKfo6sh6"
      },
      "execution_count": null,
      "outputs": []
    },
    {
      "cell_type": "markdown",
      "source": [
        "모델링 진행"
      ],
      "metadata": {
        "id": "5-HiVks8Vve4"
      }
    },
    {
      "cell_type": "code",
      "source": [
        "model = make_pipeline(TfidfVectorizer(), MultinomialNB())\n",
        "\n",
        "X_train, X_test, y_train, y_test = train_test_split(df['title'], df['main_category'], test_size=0.2)\n",
        "\n",
        "\n",
        "model.fit(X_train, y_train)\n",
        "\n",
        "predictions = model.predict(X_test)\n",
        "print(classification_report(y_test, predictions))"
      ],
      "metadata": {
        "id": "nvgQpnrekikI",
        "colab": {
          "base_uri": "https://localhost:8080/"
        },
        "outputId": "c00e334f-8452-44cd-92f3-9d81c832ea57"
      },
      "execution_count": 7,
      "outputs": [
        {
          "output_type": "stream",
          "name": "stdout",
          "text": [
            "              precision    recall  f1-score   support\n",
            "\n",
            "       IT/과학       0.85      0.02      0.04      1047\n",
            "          경제       0.70      0.67      0.68      4222\n",
            "          사회       0.66      0.95      0.78      8615\n",
            "       생활/문화       0.87      0.08      0.15      1735\n",
            "          정치       0.88      0.50      0.64      2311\n",
            "\n",
            "    accuracy                           0.69     17930\n",
            "   macro avg       0.79      0.44      0.46     17930\n",
            "weighted avg       0.73      0.69      0.63     17930\n",
            "\n"
          ]
        }
      ]
    },
    {
      "cell_type": "code",
      "source": [
        "\n",
        "new_titles = [\"IT\", \"오늘날의 경제 뉴스\"]\n",
        "\n",
        "\n",
        "new_predictions = model.predict(new_titles)\n",
        "\n",
        "for title, category in zip(new_titles, new_predictions):\n",
        "    print(f\"뉴스 제목: {title} \\n예측된 카테고리: {category}\\n\")\n",
        "\n"
      ],
      "metadata": {
        "colab": {
          "base_uri": "https://localhost:8080/"
        },
        "id": "G-eCohbWWCXp",
        "outputId": "ca0ba875-b94a-4421-c130-d660d2798e98"
      },
      "execution_count": 16,
      "outputs": [
        {
          "output_type": "stream",
          "name": "stdout",
          "text": [
            "뉴스 제목: IT \n",
            "예측된 카테고리: 경제\n",
            "\n",
            "뉴스 제목: 오늘날의 경제 뉴스 \n",
            "예측된 카테고리: 사회\n",
            "\n"
          ]
        }
      ]
    }
  ]
}
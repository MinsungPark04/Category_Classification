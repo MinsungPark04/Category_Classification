{
  "nbformat": 4,
  "nbformat_minor": 0,
  "metadata": {
    "colab": {
      "provenance": [],
      "machine_shape": "hm",
      "gpuType": "T4",
      "authorship_tag": "ABX9TyMNKawv0PkaVH4tFCVNErjS",
      "include_colab_link": true
    },
    "kernelspec": {
      "name": "python3",
      "display_name": "Python 3"
    },
    "language_info": {
      "name": "python"
    },
    "accelerator": "GPU"
  },
  "cells": [
    {
      "cell_type": "markdown",
      "metadata": {
        "id": "view-in-github",
        "colab_type": "text"
      },
      "source": [
        "<a href=\"https://colab.research.google.com/github/MinsungPark04/Category_Classification/blob/main/Category_Classification.ipynb\" target=\"_parent\"><img src=\"https://colab.research.google.com/assets/colab-badge.svg\" alt=\"Open In Colab\"/></a>"
      ]
    },
    {
      "cell_type": "code",
      "execution_count": null,
      "metadata": {
        "id": "Ofli-JjJj91l",
        "colab": {
          "base_uri": "https://localhost:8080/"
        },
        "outputId": "bce83143-8958-4f64-9c0a-591e05b29e25"
      },
      "outputs": [
        {
          "output_type": "stream",
          "name": "stdout",
          "text": [
            "Drive already mounted at /content/drive; to attempt to forcibly remount, call drive.mount(\"/content/drive\", force_remount=True).\n"
          ]
        }
      ],
      "source": [
        "from google.colab import drive\n",
        "drive.mount('/content/drive')"
      ]
    },
    {
      "cell_type": "code",
      "source": [
        "import pandas as pd"
      ],
      "metadata": {
        "id": "NAAZya_KQUET"
      },
      "execution_count": null,
      "outputs": []
    },
    {
      "cell_type": "code",
      "source": [
        "def load_data():\n",
        "    df = pd.read_csv('/content/drive/MyDrive/Colab Notebooks/Data/refine_data.csv', nrows=100000)\n",
        "    df = df.dropna()\n",
        "    df = df.drop_duplicates(subset='title', keep='first')\n",
        "    df = df[['title', 'main_category']]\n",
        "    df = df.reset_index(drop=True)\n",
        "    return df\n",
        "\n",
        "df = load_data()\n"
      ],
      "metadata": {
        "id": "WhFrz-mZi3ve"
      },
      "execution_count": null,
      "outputs": []
    },
    {
      "cell_type": "code",
      "source": [
        "value_counts = df['main_category'].value_counts()\n",
        "\n",
        "print(value_counts)\n"
      ],
      "metadata": {
        "colab": {
          "base_uri": "https://localhost:8080/"
        },
        "id": "vL0W1uU_N_gs",
        "outputId": "6b845495-0c32-43e0-b5f3-87309c2864ed"
      },
      "execution_count": null,
      "outputs": [
        {
          "output_type": "stream",
          "name": "stdout",
          "text": [
            "사회       43238\n",
            "경제       21371\n",
            "정치       11443\n",
            "생활/문화     8639\n",
            "IT/과학     4958\n",
            "Name: main_category, dtype: int64\n"
          ]
        }
      ]
    },
    {
      "cell_type": "markdown",
      "source": [
        "헤더 내용 추가"
      ],
      "metadata": {
        "id": "JzxH4y3ZUfYd"
      }
    },
    {
      "cell_type": "code",
      "source": [
        "original_file_name = '/content/drive/MyDrive/Colab Notebooks/Data/raw_data.csv'\n",
        "new_file_name = '/content/drive/MyDrive/Colab Notebooks/Data/refine_data.csv'\n",
        "\n",
        "\n",
        "header = 'title,content,main_category,sub_category\\n'\n",
        "\n",
        "with open(original_file_name, 'r') as original_file:\n",
        "    content = original_file.readlines()\n",
        "\n",
        "\n",
        "with open(new_file_name, 'w') as new_file:\n",
        "    new_file.write(header)\n",
        "    new_file.writelines(content)"
      ],
      "metadata": {
        "id": "-zelUKfo6sh6"
      },
      "execution_count": null,
      "outputs": []
    },
    {
      "cell_type": "markdown",
      "source": [
        "모델링 진행"
      ],
      "metadata": {
        "id": "5-HiVks8Vve4"
      }
    },
    {
      "cell_type": "code",
      "source": [
        "from sklearn.model_selection import train_test_split\n",
        "from sklearn.feature_extraction.text import TfidfVectorizer\n",
        "from sklearn.naive_bayes import MultinomialNB\n",
        "from sklearn.pipeline import make_pipeline\n",
        "from sklearn.metrics import accuracy_score"
      ],
      "metadata": {
        "id": "DfEwYlUOi2hl"
      },
      "execution_count": null,
      "outputs": []
    },
    {
      "cell_type": "code",
      "source": [
        "model = make_pipeline(TfidfVectorizer(), MultinomialNB())\n",
        "\n",
        "X_train, X_test, y_train, y_test = train_test_split(df['title'], df['main_category'], test_size=0.2)\n",
        "\n",
        "\n",
        "model.fit(X_train, y_train)\n",
        "\n",
        "predictions = model.predict(X_test)\n",
        "print(classification_report(y_test, predictions))"
      ],
      "metadata": {
        "id": "nvgQpnrekikI",
        "colab": {
          "base_uri": "https://localhost:8080/"
        },
        "outputId": "c00e334f-8452-44cd-92f3-9d81c832ea57"
      },
      "execution_count": null,
      "outputs": [
        {
          "output_type": "stream",
          "name": "stdout",
          "text": [
            "              precision    recall  f1-score   support\n",
            "\n",
            "       IT/과학       0.85      0.02      0.04      1047\n",
            "          경제       0.70      0.67      0.68      4222\n",
            "          사회       0.66      0.95      0.78      8615\n",
            "       생활/문화       0.87      0.08      0.15      1735\n",
            "          정치       0.88      0.50      0.64      2311\n",
            "\n",
            "    accuracy                           0.69     17930\n",
            "   macro avg       0.79      0.44      0.46     17930\n",
            "weighted avg       0.73      0.69      0.63     17930\n",
            "\n"
          ]
        }
      ]
    },
    {
      "cell_type": "code",
      "source": [
        "\n",
        "new_titles = [\"IT\", \"오늘날의 경제 뉴스\"]\n",
        "\n",
        "\n",
        "new_predictions = model.predict(new_titles)\n",
        "\n",
        "for title, category in zip(new_titles, new_predictions):\n",
        "    print(f\"뉴스 제목: {title} \\n예측된 카테고리: {category}\\n\")\n",
        "\n"
      ],
      "metadata": {
        "colab": {
          "base_uri": "https://localhost:8080/"
        },
        "id": "G-eCohbWWCXp",
        "outputId": "ca0ba875-b94a-4421-c130-d660d2798e98"
      },
      "execution_count": null,
      "outputs": [
        {
          "output_type": "stream",
          "name": "stdout",
          "text": [
            "뉴스 제목: IT \n",
            "예측된 카테고리: 경제\n",
            "\n",
            "뉴스 제목: 오늘날의 경제 뉴스 \n",
            "예측된 카테고리: 사회\n",
            "\n"
          ]
        }
      ]
    }
  ]
}